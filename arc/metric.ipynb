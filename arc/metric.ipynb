{
 "cells": [
  {
   "cell_type": "code",
   "execution_count": null,
   "metadata": {},
   "outputs": [],
   "source": []
  },
  {
   "cell_type": "markdown",
   "metadata": {},
   "source": [
    "### ARC ( AI2 Reasoning Challenge)"
   ]
  },
  {
   "cell_type": "markdown",
   "metadata": {},
   "source": [
    "-  It is a benchmark designed to test the reasoning abilities of Language Models (LLMs) using grade-school level science questions"
   ]
  },
  {
   "cell_type": "markdown",
   "metadata": {},
   "source": []
  },
  {
   "cell_type": "markdown",
   "metadata": {},
   "source": [
    "### Evaluation:\n",
    "\n",
    "- LLMs are tested in a 25-shot setting (given 25 examples before answering).\n",
    "Accuracy is measured over 3548 questions, with about 33% being especially difficult (ARC-Challenge).\n"
   ]
  },
  {
   "cell_type": "markdown",
   "metadata": {},
   "source": [
    "### Dataset Details:\n",
    "\n",
    "- The dataset is 681MB and split into two parts:\n",
    "  - ARC-Easy: Simple questions.\n",
    "  - ARC-Challenge: Tougher questions requiring reasoning."
   ]
  },
  {
   "cell_type": "markdown",
   "metadata": {},
   "source": [
    "### Metrics:\n",
    "- It measure how well a model performs on answering the questions in the dataset."
   ]
  },
  {
   "cell_type": "markdown",
   "metadata": {},
   "source": [
    "##### Accuracy:\n",
    "\n",
    "- This is the main metric. It calculates the percentage of questions the model answers correctly.\n",
    "- For example, if there are 100 questions and the model gets 75 right, the accuracy is 75%."
   ]
  },
  {
   "cell_type": "markdown",
   "metadata": {},
   "source": [
    "##### 3548 Total Questions:\n",
    "\n",
    "- The dataset contains 3548 multiple-choice questions in total.\n",
    "- These are divided into two subsets:\n",
    "   - ARC-Easy: Straightforward questions.\n",
    "    - ARC-Challenge: Harder questions requiring reasoning."
   ]
  },
  {
   "cell_type": "markdown",
   "metadata": {},
   "source": []
  }
 ],
 "metadata": {
  "kernelspec": {
   "display_name": ".venv",
   "language": "python",
   "name": "python3"
  },
  "language_info": {
   "name": "python",
   "version": "3.12.3"
  }
 },
 "nbformat": 4,
 "nbformat_minor": 2
}
